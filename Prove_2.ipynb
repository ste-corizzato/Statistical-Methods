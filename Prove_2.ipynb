{
  "nbformat": 4,
  "nbformat_minor": 0,
  "metadata": {
    "colab": {
      "provenance": [],
      "mount_file_id": "16SA2Zk4WWhMlABHj9lqG42QRaMHugdif",
      "authorship_tag": "ABX9TyNVHnDWDjo3wGicM2zbkTv+",
      "include_colab_link": true
    },
    "kernelspec": {
      "name": "python3",
      "display_name": "Python 3"
    },
    "language_info": {
      "name": "python"
    }
  },
  "cells": [
    {
      "cell_type": "markdown",
      "metadata": {
        "id": "view-in-github",
        "colab_type": "text"
      },
      "source": [
        "<a href=\"https://colab.research.google.com/github/ste-corizzato/Statistical-Methods/blob/main/Prove_2.ipynb\" target=\"_parent\"><img src=\"https://colab.research.google.com/assets/colab-badge.svg\" alt=\"Open In Colab\"/></a>"
      ]
    },
    {
      "cell_type": "code",
      "execution_count": null,
      "metadata": {
        "id": "_4Iu6aRRRdp7"
      },
      "outputs": [],
      "source": [
        "import numpy as np\n",
        "#from Keras import\n",
        "#from Keras import"
      ]
    },
    {
      "cell_type": "code",
      "source": [
        "from google.colab import drive\n",
        "import os\n",
        "drive.mount('/content/gdrive/', force_remount=True)"
      ],
      "metadata": {
        "id": "tleKlEzKRgGh",
        "colab": {
          "base_uri": "https://localhost:8080/"
        },
        "outputId": "26e40a20-c332-4192-8b2d-d720670d2ad8"
      },
      "execution_count": null,
      "outputs": [
        {
          "output_type": "stream",
          "name": "stdout",
          "text": [
            "Mounted at /content/gdrive/\n"
          ]
        }
      ]
    },
    {
      "cell_type": "code",
      "source": [],
      "metadata": {
        "id": "kPz8I_AAHyum"
      },
      "execution_count": null,
      "outputs": []
    },
    {
      "cell_type": "code",
      "source": [],
      "metadata": {
        "id": "2OwBXw8wb5L3"
      },
      "execution_count": null,
      "outputs": []
    }
  ]
}